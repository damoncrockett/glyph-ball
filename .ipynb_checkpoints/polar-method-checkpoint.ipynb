{
 "cells": [
  {
   "cell_type": "code",
   "execution_count": 783,
   "metadata": {
    "collapsed": false
   },
   "outputs": [],
   "source": [
    "import matplotlib.pyplot as plt\n",
    "%matplotlib inline\n",
    "import numpy as np\n",
    "import math\n",
    "import pandas as pd"
   ]
  },
  {
   "cell_type": "code",
   "execution_count": 784,
   "metadata": {
    "collapsed": true
   },
   "outputs": [],
   "source": [
    "n = 3856"
   ]
  },
  {
   "cell_type": "code",
   "execution_count": 785,
   "metadata": {
    "collapsed": false
   },
   "outputs": [],
   "source": [
    "r = int(math.ceil(np.sqrt(n/np.pi)))"
   ]
  },
  {
   "cell_type": "code",
   "execution_count": 786,
   "metadata": {
    "collapsed": true
   },
   "outputs": [],
   "source": [
    "a = []\n",
    "for radius in range(1,r+1):\n",
    "    area = radius * radius * np.pi\n",
    "    a.append(area)"
   ]
  },
  {
   "cell_type": "code",
   "execution_count": 787,
   "metadata": {
    "collapsed": false
   },
   "outputs": [],
   "source": [
    "sizes = [int(round(a[i]-a[i-1])) for i in range(1,len(a))]"
   ]
  },
  {
   "cell_type": "code",
   "execution_count": 788,
   "metadata": {
    "collapsed": false
   },
   "outputs": [],
   "source": [
    "sizes.insert(0,int(round(a[0])))"
   ]
  },
  {
   "cell_type": "code",
   "execution_count": 789,
   "metadata": {
    "collapsed": true
   },
   "outputs": [],
   "source": [
    "radii = range(1,r+1)"
   ]
  },
  {
   "cell_type": "code",
   "execution_count": 790,
   "metadata": {
    "collapsed": true
   },
   "outputs": [],
   "source": [
    "def pol2cart(rho, phi):\n",
    "    x = rho * np.cos(phi)\n",
    "    y = rho * np.sin(phi)\n",
    "    return(x, y)"
   ]
  },
  {
   "cell_type": "code",
   "execution_count": 791,
   "metadata": {
    "collapsed": false
   },
   "outputs": [],
   "source": [
    "all_x = []\n",
    "all_y = []\n",
    "for i in range(r):\n",
    "    radius = radii[i]\n",
    "    size = sizes[i]\n",
    "    radstep = 2*np.pi / size # circumference is 2pi radians\n",
    "    phi_offset = np.random.choice(np.arange(-np.pi,np.pi,np.pi/1024)) # we'll use this to jitter our starting pt\n",
    "    phis_unjittered = np.arange(-np.pi,np.pi,radstep)\n",
    "    phis = [phi+phi_offset for phi in phis_unjittered]    \n",
    "    ppts = [(radius,phi) for phi in phis]\n",
    "    pts = [pol2cart(ppt[0],ppt[1]) for ppt in ppts]\n",
    "    all_x.append([item[0] for item in pts])\n",
    "    all_y.append([item[1] for item in pts])\n",
    "all_x = [item for sublist in all_x for item in sublist]\n",
    "all_y = [item for sublist in all_y for item in sublist]"
   ]
  },
  {
   "cell_type": "code",
   "execution_count": 792,
   "metadata": {
    "collapsed": false
   },
   "outputs": [
    {
     "data": {
      "text/plain": [
       "<matplotlib.collections.PathCollection at 0x12bde1f50>"
      ]
     },
     "execution_count": 792,
     "metadata": {},
     "output_type": "execute_result"
    },
    {
     "data": {
      "image/png": "[encoded data removed]",
      "text/plain": [
       "<matplotlib.figure.Figure at 0x12cd98dd0>"
      ]
     },
     "metadata": {},
     "output_type": "display_data"
    }
   ],
   "source": [
    "fig,ax = plt.subplots(figsize=(10,10))\n",
    "ax.scatter(all_x,all_y,s=1)"
   ]
  },
  {
   "cell_type": "code",
   "execution_count": 793,
   "metadata": {
    "collapsed": true
   },
   "outputs": [],
   "source": [
    "from shapely.geometry import Point"
   ]
  },
  {
   "cell_type": "code",
   "execution_count": 794,
   "metadata": {
    "collapsed": true
   },
   "outputs": [],
   "source": [
    "center = Point(0,0)"
   ]
  },
  {
   "cell_type": "code",
   "execution_count": 795,
   "metadata": {
    "collapsed": true
   },
   "outputs": [],
   "source": [
    "df = pd.DataFrame(all_x,columns=['x'])"
   ]
  },
  {
   "cell_type": "code",
   "execution_count": 796,
   "metadata": {
    "collapsed": true
   },
   "outputs": [],
   "source": [
    "df['y'] = all_y"
   ]
  },
  {
   "cell_type": "code",
   "execution_count": 797,
   "metadata": {
    "collapsed": false
   },
   "outputs": [],
   "source": [
    "df['distance'] = [center.distance(Point(df.x[i],df.y[i])) for i in range(len(df))]"
   ]
  },
  {
   "cell_type": "code",
   "execution_count": 798,
   "metadata": {
    "collapsed": false
   },
   "outputs": [],
   "source": [
    "tmp = df.sort('distance')[:n]"
   ]
  },
  {
   "cell_type": "code",
   "execution_count": 799,
   "metadata": {
    "collapsed": true
   },
   "outputs": [],
   "source": [
    "tmp.reset_index(drop=True,inplace=True)"
   ]
  },
  {
   "cell_type": "code",
   "execution_count": 800,
   "metadata": {
    "collapsed": false
   },
   "outputs": [
    {
     "name": "stdout",
     "output_type": "stream",
     "text": [
      "<class 'pandas.core.frame.DataFrame'>\n",
      "Int64Index: 3856 entries, 0 to 3855\n",
      "Data columns (total 3 columns):\n",
      "x           3856 non-null float64\n",
      "y           3856 non-null float64\n",
      "distance    3856 non-null float64\n",
      "dtypes: float64(3)\n",
      "memory usage: 120.5 KB\n"
     ]
    }
   ],
   "source": [
    "tmp.info()"
   ]
  },
  {
   "cell_type": "code",
   "execution_count": 801,
   "metadata": {
    "collapsed": false
   },
   "outputs": [],
   "source": [
    "d = pd.read_csv(\"/Users/damoncrockett/Desktop/astrophotography_data/glyph_ball_quality.csv\")"
   ]
  },
  {
   "cell_type": "code",
   "execution_count": 802,
   "metadata": {
    "collapsed": false
   },
   "outputs": [],
   "source": [
    "meta = d[['size','year','make','emp','type']].sort('size',ascending=False)"
   ]
  },
  {
   "cell_type": "code",
   "execution_count": 803,
   "metadata": {
    "collapsed": false
   },
   "outputs": [
    {
     "name": "stdout",
     "output_type": "stream",
     "text": [
      "<class 'pandas.core.frame.DataFrame'>\n",
      "Int64Index: 3856 entries, 0 to 3855\n",
      "Data columns (total 5 columns):\n",
      "size    3856 non-null float64\n",
      "year    3856 non-null float64\n",
      "make    3856 non-null object\n",
      "emp     3856 non-null float64\n",
      "type    3856 non-null object\n",
      "dtypes: float64(3), object(2)\n",
      "memory usage: 180.8+ KB\n"
     ]
    }
   ],
   "source": [
    "meta.info()"
   ]
  },
  {
   "cell_type": "code",
   "execution_count": 804,
   "metadata": {
    "collapsed": false
   },
   "outputs": [],
   "source": [
    "meta.reset_index(drop=True,inplace=True)"
   ]
  },
  {
   "cell_type": "code",
   "execution_count": 805,
   "metadata": {
    "collapsed": false
   },
   "outputs": [],
   "source": [
    "tmp['size'] = meta['size']\n",
    "tmp['year'] = meta.year\n",
    "tmp['make'] = meta.make\n",
    "tmp['type'] = meta['type']\n",
    "tmp['emp'] = meta.emp"
   ]
  },
  {
   "cell_type": "code",
   "execution_count": 806,
   "metadata": {
    "collapsed": false
   },
   "outputs": [],
   "source": [
    "tmp.to_csv(\"/Users/damoncrockett/Desktop/astrophotography_data/glyph_ball_quality_R.csv\",index=False)"
   ]
  },
  {
   "cell_type": "code",
   "execution_count": 807,
   "metadata": {
    "collapsed": false
   },
   "outputs": [
    {
     "name": "stdout",
     "output_type": "stream",
     "text": [
      "<class 'pandas.core.frame.DataFrame'>\n",
      "Int64Index: 3856 entries, 0 to 3855\n",
      "Data columns (total 8 columns):\n",
      "x           3856 non-null float64\n",
      "y           3856 non-null float64\n",
      "distance    3856 non-null float64\n",
      "size        3856 non-null float64\n",
      "year        3856 non-null float64\n",
      "make        3856 non-null object\n",
      "type        3856 non-null object\n",
      "emp         3856 non-null float64\n",
      "dtypes: float64(6), object(2)\n",
      "memory usage: 271.1+ KB\n"
     ]
    }
   ],
   "source": [
    "tmp.info()"
   ]
  },
  {
   "cell_type": "code",
   "execution_count": null,
   "metadata": {
    "collapsed": true
   },
   "outputs": [],
   "source": []
  }
 ],
 "metadata": {
  "kernelspec": {
   "display_name": "Python 2",
   "language": "python",
   "name": "python2"
  },
  "language_info": {
   "codemirror_mode": {
    "name": "ipython",
    "version": 2
   },
   "file_extension": ".py",
   "mimetype": "text/x-python",
   "name": "python",
   "nbconvert_exporter": "python",
   "pygments_lexer": "ipython2",
   "version": "2.7.10"
  }
 },
 "nbformat": 4,
 "nbformat_minor": 0
}
